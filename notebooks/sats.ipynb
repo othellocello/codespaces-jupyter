{
 "cells": [
  {
   "cell_type": "code",
   "execution_count": 1,
   "metadata": {},
   "outputs": [
    {
     "name": "stdout",
     "output_type": "stream",
     "text": [
      "0.5 BTC = 50000000.0 Satoshis\n",
      "0.5 BTC = 196582.05 ZAR\n"
     ]
    }
   ],
   "source": [
    "import requests\n",
    "\n",
    "def btc_to_satoshis(btc):\n",
    "    return btc * 100000000\n",
    "\n",
    "def btc_to_zar(btc):\n",
    "    response = requests.get('https://api.coindesk.com/v1/bpi/currentprice/ZAR.json')\n",
    "    rate = response.json()['bpi']['ZAR']['rate_float']\n",
    "    return btc * rate\n",
    "\n",
    "# Example usage:\n",
    "btc = 0.5\n",
    "satoshis = btc_to_satoshis(btc)\n",
    "zar = btc_to_zar(btc)\n",
    "print(f\"{btc} BTC = {satoshis} Satoshis\")\n",
    "print(f\"{btc} BTC = {zar:.2f} ZAR\")"
   ]
  }
 ],
 "metadata": {
  "kernelspec": {
   "display_name": "Python 3",
   "language": "python",
   "name": "python3"
  },
  "language_info": {
   "codemirror_mode": {
    "name": "ipython",
    "version": 3
   },
   "file_extension": ".py",
   "mimetype": "text/x-python",
   "name": "python",
   "nbconvert_exporter": "python",
   "pygments_lexer": "ipython3",
   "version": "3.10.4"
  },
  "orig_nbformat": 4,
  "vscode": {
   "interpreter": {
    "hash": "3ad933181bd8a04b432d3370b9dc3b0662ad032c4dfaa4e4f1596c548f763858"
   }
  }
 },
 "nbformat": 4,
 "nbformat_minor": 2
}
